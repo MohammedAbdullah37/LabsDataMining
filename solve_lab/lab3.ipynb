{
 "cells": [
  {
   "cell_type": "markdown",
   "metadata": {},
   "source": [
    "Example 1.1\n",
    "    "
   ]
  },
  {
   "cell_type": "code",
   "execution_count": 4,
   "metadata": {},
   "outputs": [
    {
     "name": "stdout",
     "output_type": "stream",
     "text": [
      "Welcome!\n",
      "My favorite # is 7\n"
     ]
    }
   ],
   "source": [
    "def conform(fav):\n",
    "    fav = 42\n",
    "    return fav\n",
    "if __name__==\"__main__\":\n",
    "    print('Welcome!')\n",
    "    fav = 7\n",
    "    conform(fav)\n",
    "    print(\"My favorite # is\",fav)"
   ]
  },
  {
   "cell_type": "markdown",
   "metadata": {},
   "source": [
    " In the main function, Did the value of fav variable change after invoking the main function? \n",
    "     No \n",
    "    Can you explain the reason behind that? \n",
    "   Because each variable has a special address in it"
   ]
  },
  {
   "cell_type": "markdown",
   "metadata": {},
   "source": [
    "Example 1.2"
   ]
  },
  {
   "cell_type": "code",
   "execution_count": 4,
   "metadata": {},
   "outputs": [
    {
     "name": "stdout",
     "output_type": "stream",
     "text": [
      "Inside the function {'A': 28, 'B': 25, 'C': 32, 'D': 25, 'E': 30, 'F': 28}\n",
      "outside the function : {'A': 28, 'B': 25, 'C': 32, 'D': 25, 'E': 30, 'F': 28}\n"
     ]
    }
   ],
   "source": [
    "student = {'A':28 , 'B':25 , 'C':32 , 'D':25 }\n",
    "def test(student):\n",
    "    new ={'E':30 , 'F':28}\n",
    "    student.update(new)\n",
    "    print(\"Inside the function\",student)\n",
    "    return\n",
    "test(student)\n",
    "print(\"outside the function :\",student)"
   ]
  },
  {
   "cell_type": "markdown",
   "metadata": {},
   "source": [
    "Are the outputs same in both call? Write your observation below ? \n",
    " Yes, Because the change is at the same address\n",
    "Can you explain the difference between the outputs of Example 1 and Example 2??\n",
    " Example 1 : is use deffrint address for each, Example 2: is the same address for each varieble so are change"
   ]
  },
  {
   "cell_type": "markdown",
   "metadata": {},
   "source": [
    "Exercise 2.1\n",
    "        "
   ]
  },
  {
   "cell_type": "code",
   "execution_count": 7,
   "metadata": {},
   "outputs": [
    {
     "name": "stdout",
     "output_type": "stream",
     "text": [
      "Mohammed AL-Saadi\n"
     ]
    }
   ],
   "source": [
    "class student :\n",
    "    def __init__(self,name):\n",
    "        self.name=name\n",
    "        self.course_list= []\n",
    "std=student(\"Mohammed AL-Saadi\")\n",
    "print(std.name)"
   ]
  },
  {
   "cell_type": "markdown",
   "metadata": {},
   "source": [
    "Exercise 2.2"
   ]
  },
  {
   "cell_type": "markdown",
   "metadata": {},
   "source": [
    "Because it enables me to insert more than one value."
   ]
  },
  {
   "cell_type": "markdown",
   "metadata": {},
   "source": [
    "Exercise 2.3"
   ]
  },
  {
   "cell_type": "code",
   "execution_count": 9,
   "metadata": {},
   "outputs": [
    {
     "name": "stdout",
     "output_type": "stream",
     "text": [
      "['python', 'math']\n",
      "['python']\n"
     ]
    }
   ],
   "source": [
    "class st:\n",
    "    def __init__(self,name):\n",
    "        self.name=name\n",
    "        self.course_list=[]\n",
    "    def add(self ,new_course):\n",
    "        self.course_list.append(new_course)\n",
    "    def remove(self ,course_list):\n",
    "        self.course_list.remove(course_list)\n",
    "std=st(\"mohammed\")\n",
    "std.add(\"python\")\n",
    "std.add(\"math\")\n",
    "print(std.course_list)\n",
    "std.remove(\"math\")\n",
    "print(std.course_list)"
   ]
  },
  {
   "cell_type": "markdown",
   "metadata": {},
   "source": [
    "Exercise 2.4"
   ]
  },
  {
   "cell_type": "markdown",
   "metadata": {},
   "source": [
    "Keep all the inside of the class above and put it inside the class used in it(pass)"
   ]
  },
  {
   "cell_type": "markdown",
   "metadata": {},
   "source": [
    "Exercise 2.5"
   ]
  },
  {
   "cell_type": "code",
   "execution_count": 10,
   "metadata": {},
   "outputs": [
    {
     "name": "stdout",
     "output_type": "stream",
     "text": [
      "mohammed ALSaadi\n"
     ]
    }
   ],
   "source": [
    "class p:\n",
    "    def __init__(self, fname, lname):\n",
    "        self.fristname = fname\n",
    "        self.lastname = lname       \n",
    "    def printname(self):\n",
    "        print(self.fristname, self.lastname)\n",
    "\n",
    "\n",
    "class pro(p):\n",
    "    def __init__(self,fname,lname):\n",
    "        p.__init__(self, fname, lname)\n",
    "        \n",
    "        \n",
    "    \n",
    "   \n",
    "    \n",
    "mhd = pro(\"mohammed\",\"ALSaadi\")\n",
    "mhd.printname()\n"
   ]
  },
  {
   "cell_type": "markdown",
   "metadata": {},
   "source": [
    "Exercise 2.3"
   ]
  },
  {
   "cell_type": "code",
   "execution_count": 2,
   "metadata": {},
   "outputs": [
    {
     "name": "stdout",
     "output_type": "stream",
     "text": [
      "mohammed ALSaadi\n",
      "37\n"
     ]
    }
   ],
   "source": [
    "class p:\n",
    "    def __init__(self, fname, lname):\n",
    "        self.fristname = fname\n",
    "        self.lastname = lname       \n",
    "    def printname(self):\n",
    "        print(self.fristname, self.lastname)\n",
    "\n",
    "\n",
    "class pro(p):\n",
    "    def __init__(self,fname,lname,idd):\n",
    "        p.__init__(self, fname, lname)\n",
    "        self.idd = idd\n",
    "        \n",
    "    \n",
    "   \n",
    "    \n",
    "mhd = pro(\"mohammed\",\"ALSaadi\",37)\n",
    "mhd.printname()\n",
    "print(mhd.idd)"
   ]
  }
 ],
 "metadata": {
  "kernelspec": {
   "display_name": "Python 3",
   "language": "python",
   "name": "python3"
  },
  "language_info": {
   "codemirror_mode": {
    "name": "ipython",
    "version": 3
   },
   "file_extension": ".py",
   "mimetype": "text/x-python",
   "name": "python",
   "nbconvert_exporter": "python",
   "pygments_lexer": "ipython3",
   "version": "3.7.4"
  }
 },
 "nbformat": 4,
 "nbformat_minor": 2
}
